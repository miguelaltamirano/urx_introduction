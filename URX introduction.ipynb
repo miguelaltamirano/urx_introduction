{
 "cells": [
  {
   "cell_type": "code",
   "execution_count": 1,
   "id": "eastern-instrument",
   "metadata": {},
   "outputs": [],
   "source": [
    "#we import libraries to access third-party functions. Like #include <stdio> in C++\n",
    "import urx #The UR library. $ pip install urx\n",
    "import time, pickle #standard pythonic things. #pickle is used to save objects to disk\n",
    "import numpy as np #numpy is for computing in python\n",
    "import math3d as m3d #the library, used by urx to represent transformations"
   ]
  },
  {
   "cell_type": "markdown",
   "id": "atlantic-riverside",
   "metadata": {},
   "source": [
    "# Base coordinate system"
   ]
  },
  {
   "cell_type": "markdown",
   "id": "interracial-sleeping",
   "metadata": {},
   "source": [
    "<img src=\"presentation/baseCS.jpg\" alt=\"setup\" style=\"height: 600px;\"/>"
   ]
  },
  {
   "cell_type": "markdown",
   "id": "recognized-helena",
   "metadata": {},
   "source": [
    "# Tool Center Point (TCP) coordinate system"
   ]
  },
  {
   "cell_type": "markdown",
   "id": "satellite-applicant",
   "metadata": {},
   "source": [
    "<img src=\"presentation/tcpCS.jpg\" alt=\"setup\" style=\"height: 600px;\"/>"
   ]
  },
  {
   "cell_type": "markdown",
   "id": "likely-tribune",
   "metadata": {},
   "source": [
    "In Jupyter Notebook, use `Shift+Enter` to execute cell.\n",
    "\n",
    "Use `Tab` to get input autocompletion. Try typing `np.save` and than pressing `Tab`, for example.\n",
    "\n",
    "`B` to create an empty cell below the selected one.\n",
    "\n",
    "`Ctrl+Shift+P` to get an search prompt for jupyter notebook functions.\n",
    "\n",
    "Use `Shift+Tab` to get some info on the function, when inside parantheses. (The more times you press, the more info you have)"
   ]
  },
  {
   "cell_type": "markdown",
   "id": "wanted-trailer",
   "metadata": {},
   "source": [
    "<img src=\"presentation/ip.jpeg\" alt=\"setup\" style=\"height: 600px;\"/>"
   ]
  },
  {
   "cell_type": "code",
   "execution_count": 3,
   "id": "crucial-fault",
   "metadata": {},
   "outputs": [
    {
     "name": "stderr",
     "output_type": "stream",
     "text": [
      "tried 11 times to find a packet in data, advertised packet size: -2, type: 3\n",
      "Data length: 68\n",
      "tried 11 times to find a packet in data, advertised packet size: -2, type: 3\n",
      "Data length: 1092\n",
      "tried 11 times to find a packet in data, advertised packet size: -2, type: 3\n",
      "Data length: 1420\n"
     ]
    }
   ],
   "source": [
    "#Connect to the router in the lab and check the IP in the robot\n",
    "#Use ping <robot_ip> in your terminal to check the setup\n",
    "robot = urx.Robot(\"192.168.51.158\", use_rt=True)"
   ]
  },
  {
   "cell_type": "code",
   "execution_count": null,
   "id": "flexible-mountain",
   "metadata": {},
   "outputs": [],
   "source": [
    "#be carefull! This really moves the robot! Guess the units and the variables\n",
    "#Shift+Tab to help you\n",
    "robot.translate((-0.05, 0, 0.), acc=0.05, vel=0.05) #acceleration, velocity"
   ]
  },
  {
   "cell_type": "code",
   "execution_count": null,
   "id": "dangerous-concert",
   "metadata": {},
   "outputs": [],
   "source": [
    "robot.translate_tool((0, 0, -0.03), acc=0.05, vel=0.05)\n"
   ]
  },
  {
   "cell_type": "code",
   "execution_count": 7,
   "id": "normal-lotus",
   "metadata": {},
   "outputs": [
    {
     "data": {
      "text/plain": [
       "<Transform:\n",
       "<Orientation: \n",
       "array([[ 0.08506729, -0.99637214, -0.00247136],\n",
       "       [-0.99292618, -0.08456636, -0.08334343],\n",
       "       [ 0.08283207,  0.00954368, -0.99651782]])>\n",
       "<Vector: (0.22087, -0.33663, 0.04768)>\n",
       ">"
      ]
     },
     "execution_count": 7,
     "metadata": {},
     "output_type": "execute_result"
    }
   ],
   "source": [
    "robot.get_pose() #rotation matrix + position\n"
   ]
  },
  {
   "cell_type": "code",
   "execution_count": 6,
   "id": "interstate-script",
   "metadata": {},
   "outputs": [
    {
     "data": {
      "text/plain": [
       "<Vector: (0.22084, -0.33665, 0.04767)>"
      ]
     },
     "execution_count": 6,
     "metadata": {},
     "output_type": "execute_result"
    }
   ],
   "source": [
    "robot.get_pos() #just position\n"
   ]
  },
  {
   "cell_type": "code",
   "execution_count": 5,
   "id": "conservative-jefferson",
   "metadata": {},
   "outputs": [
    {
     "data": {
      "text/plain": [
       "[0.22085461119414426,\n",
       " -0.3366537186612318,\n",
       " 0.047676427137308686,\n",
       " 2.266511631384894,\n",
       " -2.08158690255713,\n",
       " 0.08411021206472474]"
      ]
     },
     "execution_count": 5,
     "metadata": {},
     "output_type": "execute_result"
    }
   ],
   "source": [
    "robot.getl() #position + rotation vector (see https://en.wikipedia.org/wiki/Axis%E2%80%93angle_representation)\n"
   ]
  },
  {
   "cell_type": "code",
   "execution_count": 4,
   "id": "devoted-drawing",
   "metadata": {},
   "outputs": [
    {
     "data": {
      "text/plain": [
       "[1.8913403749465942,\n",
       " -1.227173153554098,\n",
       " 1.5797982215881348,\n",
       " 4.281232833862305,\n",
       " -1.5949505011187952,\n",
       " 11.226432625447408]"
      ]
     },
     "execution_count": 4,
     "metadata": {},
     "output_type": "execute_result"
    }
   ],
   "source": [
    "robot.getj() #get joints position"
   ]
  },
  {
   "cell_type": "code",
   "execution_count": null,
   "id": "potential-theater",
   "metadata": {},
   "outputs": [],
   "source": []
  },
  {
   "cell_type": "code",
   "execution_count": null,
   "id": "engaged-burns",
   "metadata": {},
   "outputs": [],
   "source": [
    "#defining obvious functions\n",
    "def save_current_pos(fname):\n",
    "    p = robot.getl()\n",
    "    np.savetxt(\"pos/\" + fname, np.array(p))\n",
    "       \n",
    "\n",
    "def move_to_pos(fname, *args, **kwargs):\n",
    "    p = np.loadtxt(\"pos/\" + fname)\n",
    "    robot.movel(p, *args, **kwargs)\n",
    "    \n",
    "def print_pos(fname):\n",
    "    p = np.loadtxt(fname)\n",
    "    print(p)\n",
    "    "
   ]
  },
  {
   "cell_type": "code",
   "execution_count": null,
   "id": "conscious-looking",
   "metadata": {},
   "outputs": [],
   "source": [
    "save_current_pos('home')\n"
   ]
  },
  {
   "cell_type": "code",
   "execution_count": null,
   "id": "cardiac-anniversary",
   "metadata": {},
   "outputs": [],
   "source": [
    "def move_x_y(x, y):\n",
    "    p = np.array(robot.getl())\n",
    "    p[0] += x\n",
    "    p[1] += y\n",
    "    robot.movel(p, vel=0.05, acc=0.05)"
   ]
  },
  {
   "cell_type": "code",
   "execution_count": null,
   "id": "closed-eclipse",
   "metadata": {},
   "outputs": [],
   "source": [
    "move_x_y(0.01, 0)"
   ]
  },
  {
   "cell_type": "code",
   "execution_count": null,
   "id": "athletic-arrival",
   "metadata": {},
   "outputs": [],
   "source": [
    "robot.getl()\n"
   ]
  },
  {
   "cell_type": "code",
   "execution_count": null,
   "id": "polish-bradley",
   "metadata": {},
   "outputs": [],
   "source": [
    "robot.z += 0.01 #1 hour 10 minutes up to this point for me ;)\n"
   ]
  },
  {
   "cell_type": "code",
   "execution_count": null,
   "id": "worldwide-trader",
   "metadata": {},
   "outputs": [],
   "source": [
    "p = robot.get_pos()\n"
   ]
  },
  {
   "cell_type": "markdown",
   "id": "capable-visit",
   "metadata": {},
   "source": [
    "# 2F Robotiq Gripper"
   ]
  },
  {
   "cell_type": "markdown",
   "id": "western-bumper",
   "metadata": {},
   "source": [
    "<img src=\"presentation/gripper.jpeg\" alt=\"setup\" style=\"height: 400px;\"/>\n"
   ]
  },
  {
   "cell_type": "code",
   "execution_count": null,
   "id": "happy-argentina",
   "metadata": {},
   "outputs": [],
   "source": [
    "from urx.robotiq_two_finger_gripper import Robotiq_Two_Finger_Gripper\n",
    "\n",
    "gripper = Robotiq_Two_Finger_Gripper(rob_gripper) #init gripper\n",
    "\n"
   ]
  },
  {
   "cell_type": "code",
   "execution_count": null,
   "id": "liked-dayton",
   "metadata": {},
   "outputs": [],
   "source": [
    "grip_pos=100\n",
    "gripper.gripper_action(grip_pos) # send a position to the gripper"
   ]
  },
  {
   "cell_type": "code",
   "execution_count": null,
   "id": "romantic-purse",
   "metadata": {},
   "outputs": [],
   "source": []
  },
  {
   "cell_type": "code",
   "execution_count": null,
   "id": "abstract-instrumentation",
   "metadata": {},
   "outputs": [],
   "source": [
    "import robotiq_gripper\n",
    "\n",
    "ip = \"192.168.88.39\"\n",
    "\n",
    "gripper = robotiq_gripper.RobotiqGripper()\n",
    "gripper.connect(ip, 63352)\n",
    "\n",
    "\n",
    "gripper.move(200, 50, 50)\n",
    "gripper.move_and_wait_for_pos(90, 50, 50)"
   ]
  }
 ],
 "metadata": {
  "kernelspec": {
   "display_name": "Python 3",
   "language": "python",
   "name": "python3"
  },
  "language_info": {
   "codemirror_mode": {
    "name": "ipython",
    "version": 3
   },
   "file_extension": ".py",
   "mimetype": "text/x-python",
   "name": "python",
   "nbconvert_exporter": "python",
   "pygments_lexer": "ipython3",
   "version": "3.8.10"
  }
 },
 "nbformat": 4,
 "nbformat_minor": 5
}
